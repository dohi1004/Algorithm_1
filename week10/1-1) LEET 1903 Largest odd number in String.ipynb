{
 "cells": [
  {
   "cell_type": "markdown",
   "metadata": {},
   "source": [
    "#### 문자열에서 최대 홀수 찾기\n",
    "\n",
    "ex) \n",
    "\n",
    "\"52\" -> \"5\"\n",
    "\n",
    "\"4206\" -> \" \"\n",
    "\n",
    "\"35427\" -> \"35427\""
   ]
  },
  {
   "cell_type": "code",
   "execution_count": 30,
   "metadata": {},
   "outputs": [
    {
     "name": "stdout",
     "output_type": "stream",
     "text": [
      "\n"
     ]
    }
   ],
   "source": [
    "class Solution(object):\n",
    "    def largestOddNumber(self, num):\n",
    "        \"\"\"\n",
    "        :type num: str\n",
    "        :rtype: str\n",
    "        \"\"\"\n",
    "        length = len(num)\n",
    "        if int(num[-1]) % 2 == 0: # 짝수인경우\n",
    "            for i in range(1,length): \n",
    "                if(int(num[-1-i]) % 2 == 0): # 맨 뒤 하나씩 올려가면서 확인(짝수면 뛰어넘고)\n",
    "                    continue\n",
    "                else:\n",
    "                    return num[-length:-i] # 홀수면 return\n",
    "            \n",
    "            return \"\"\n",
    "\n",
    "        else: # 홀수면 그대로 return\n",
    "            return num\n"
   ]
  }
 ],
 "metadata": {
  "kernelspec": {
   "display_name": "Python 3",
   "language": "python",
   "name": "python3"
  },
  "language_info": {
   "codemirror_mode": {
    "name": "ipython",
    "version": 3
   },
   "file_extension": ".py",
   "mimetype": "text/x-python",
   "name": "python",
   "nbconvert_exporter": "python",
   "pygments_lexer": "ipython3",
   "version": "3.8.5"
  }
 },
 "nbformat": 4,
 "nbformat_minor": 4
}
