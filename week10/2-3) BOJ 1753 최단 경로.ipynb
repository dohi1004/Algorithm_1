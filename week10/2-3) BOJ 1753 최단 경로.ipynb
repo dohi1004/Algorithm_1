{
 "cells": [
  {
   "cell_type": "markdown",
   "metadata": {},
   "source": [
    "#### 방향 그래프 주어지면, 주어진 시작점에서 다른 모든 정점으로의 최단 경로 구하기\n",
    "\n",
    "입력: 정점 개수, 간선 개수, 시작점\n",
    "    \n",
    "출력: 시작점 0 기준으로 모든 정점으로의 최단 경로"
   ]
  },
  {
   "cell_type": "code",
   "execution_count": 13,
   "metadata": {},
   "outputs": [
    {
     "name": "stdout",
     "output_type": "stream",
     "text": [
      "5 6\n",
      "1\n",
      "5 1 1\n",
      "1 2 2\n",
      "1 3 3\n",
      "2 3 4\n",
      "2 4 5\n",
      "3 4 6\n",
      "0\n",
      "2\n",
      "3\n",
      "7\n",
      "INF\n"
     ]
    }
   ],
   "source": [
    "import sys\n",
    "import heapq \n",
    "input = sys.stdin.readline\n",
    "\n",
    "INF = int(1e9)\n",
    "V,E = map(int, input().split()) # 정점 개수, 간선 개수\n",
    "K = int(input()) # 시작 정점 번호 \n",
    "graph = [[] for _ in range(V+1)]\n",
    "distance = [INF] * (V+1)\n",
    "\n",
    "for _ in range(E): \n",
    "    a,b,c = map(int, input().split())\n",
    "    graph[a].append((b,c)) # a -> b 가는데 드는 비용 c\n",
    "    \n",
    "def dijkstra(start):\n",
    "    q = []\n",
    "    heapq.heappush(q, (0,start)) # 시작노드로 가는 최단 경로 = 0\n",
    "    distance[start] = 0\n",
    "    \n",
    "    while q:\n",
    "        dist, now = heapq.heappop(q)\n",
    "        if distance[now] < dist: # 이미 처리된 적 있는 노드라면 무시\n",
    "            continue\n",
    "        for i in graph[now]: # 현재 노드와 연결된 다른 인접한 노드들 확인\n",
    "            cost = dist + i[1]\n",
    "            if cost < distance[i[0]]: # 다른 노드로 가는게 더 빠른 경우\n",
    "                distance[i[0]] = cost\n",
    "                heapq.heappush(q, (cost, i[0]))\n",
    "dijkstra(K)\n",
    "\n",
    "for i in range(1,V+1):\n",
    "    if distance[i] == INF:\n",
    "        print(\"INF\")\n",
    "    else:\n",
    "        print(distance[i])"
   ]
  }
 ],
 "metadata": {
  "kernelspec": {
   "display_name": "Python 3",
   "language": "python",
   "name": "python3"
  },
  "language_info": {
   "codemirror_mode": {
    "name": "ipython",
    "version": 3
   },
   "file_extension": ".py",
   "mimetype": "text/x-python",
   "name": "python",
   "nbconvert_exporter": "python",
   "pygments_lexer": "ipython3",
   "version": "3.8.5"
  }
 },
 "nbformat": 4,
 "nbformat_minor": 4
}
